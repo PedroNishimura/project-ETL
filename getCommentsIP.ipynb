{
  "nbformat": 4,
  "nbformat_minor": 0,
  "metadata": {
    "colab": {
      "provenance": [],
      "authorship_tag": "ABX9TyNEwPaxQutegagknLnExbLC",
      "include_colab_link": true
    },
    "kernelspec": {
      "name": "python3",
      "display_name": "Python 3"
    },
    "language_info": {
      "name": "python"
    }
  },
  "cells": [
    {
      "cell_type": "markdown",
      "metadata": {
        "id": "view-in-github",
        "colab_type": "text"
      },
      "source": [
        "<a href=\"https://colab.research.google.com/github/PedroNishimura/project-ETL/blob/main/getCommentsIP.ipynb\" target=\"_parent\"><img src=\"https://colab.research.google.com/assets/colab-badge.svg\" alt=\"Open In Colab\"/></a>"
      ]
    },
    {
      "cell_type": "code",
      "execution_count": null,
      "metadata": {
        "id": "bJRD4m9KHdjw"
      },
      "outputs": [],
      "source": [
        "import pandas_gbq\n",
        "import pandas as pd\n",
        "import requests\n",
        "from google.oauth2 import service_account\n",
        "from google.colab import userdata"
      ]
    },
    {
      "cell_type": "code",
      "source": [
        "apiKey = userdata.get('api_key')\n",
        "channelId = 'UCSQ2vulanpm-UYOzbDdu60A'\n",
        "url = 'https://youtube.googleapis.com/youtube/v3/commentThreads?part=snippet%2Creplies&allThreadsRelatedToChannelId={}&key={}'.format(channelId, apiKey)\n",
        "df = pd.DataFrame()\n",
        "\n",
        "SCOPES = [\n",
        "    'https://www.googleapis.com/auth/cloud-plataform'\n",
        "]\n",
        "credentials = service_account.Credentials.from_service_account_info(\n",
        "  {\n",
        "    \"type\": \"service_account\",\n",
        "    \"project_id\": \"savvy-container-401123\",\n",
        "    \"private_key_id\": userdata.get('private_key_id'),\n",
        "    \"private_key\": userdata.get('private_key'),\n",
        "    \"client_email\": userdata.get('client_email'),\n",
        "    \"client_id\": userdata.get('client_id'),\n",
        "    \"auth_uri\": \"https://accounts.google.com/o/oauth2/auth\",\n",
        "    \"token_uri\": \"https://oauth2.googleapis.com/token\",\n",
        "    \"auth_provider_x509_cert_url\": \"https://www.googleapis.com/oauth2/v1/certs\",\n",
        "    \"client_x509_cert_url\": \"https://www.googleapis.com/robot/v1/metadata/x509/apibq-140%40savvy-container-401123.iam.gserviceaccount.com\",\n",
        "    \"universe_domain\": \"googleapis.com\"\n",
        "  }\n",
        "\n",
        ")\n",
        "\n",
        "response = requests.get(url).json()\n",
        "nextPageToken = response['nextPageToken']\n",
        "\n",
        "while (nextPageToken != ''):\n",
        "  try:\n",
        "    response['items']\n",
        "  except:\n",
        "    try:\n",
        "      nextPageToken = response['nextPageToken']\n",
        "    except:\n",
        "      nextPageToken = ''\n",
        "    continue\n",
        "\n",
        "  for element in response['items']:\n",
        "    comment = pd.json_normalize(element['snippet']['topLevelComment']['snippet'])\n",
        "    comment = comment[\n",
        "      [\n",
        "        'videoId',\n",
        "        'textOriginal',\n",
        "        'authorDisplayName',\n",
        "        'likeCount',\n",
        "        'publishedAt'\n",
        "      ]\n",
        "    ]\n",
        "    df = df.append(comment)\n",
        "\n",
        "  try:\n",
        "    nextPageToken = response['nextPageToken']\n",
        "  except:\n",
        "    nextPageToken = ''\n",
        "\n",
        "  url = 'https://youtube.googleapis.com/youtube/v3/commentThreads?part=snippet%2Creplies&pageToken={}&allThreadsRelatedToChannelId={}&key={}'.format(nextPageToken, channelId, apiKey)\n",
        "  response = requests.get(url).json()"
      ],
      "metadata": {
        "id": "zUf6BQQcK8HL"
      },
      "execution_count": null,
      "outputs": []
    },
    {
      "cell_type": "code",
      "source": [
        "pandas_gbq.context.credentials = credentials\n",
        "pandas_gbq.context.project = 'DataEngineerStudies'\n",
        "pandas_gbq.to_gbq(df, 'testes.ipp', project_id='savvy-container-401123', if_exists='replace')"
      ],
      "metadata": {
        "id": "VtIugwoCXU-S"
      },
      "execution_count": null,
      "outputs": []
    }
  ]
}