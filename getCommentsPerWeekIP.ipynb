{
  "nbformat": 4,
  "nbformat_minor": 0,
  "metadata": {
    "colab": {
      "provenance": [],
      "authorship_tag": "ABX9TyOv523uA+XVbfYsrTA4PMf8",
      "include_colab_link": true
    },
    "kernelspec": {
      "name": "python3",
      "display_name": "Python 3"
    },
    "language_info": {
      "name": "python"
    }
  },
  "cells": [
    {
      "cell_type": "markdown",
      "metadata": {
        "id": "view-in-github",
        "colab_type": "text"
      },
      "source": [
        "<a href=\"https://colab.research.google.com/github/PedroNishimura/project-ETL/blob/main/getCommentsPerWeekIP.ipynb\" target=\"_parent\"><img src=\"https://colab.research.google.com/assets/colab-badge.svg\" alt=\"Open In Colab\"/></a>"
      ]
    },
    {
      "cell_type": "code",
      "execution_count": null,
      "metadata": {
        "id": "T-ydr112D6MP"
      },
      "outputs": [],
      "source": [
        "import pandas_gbq\n",
        "import pandas as pd\n",
        "import requests\n",
        "from datetime import datetime, timedelta\n",
        "from google.oauth2 import service_account\n",
        "from google.colab import userdata"
      ]
    },
    {
      "cell_type": "code",
      "source": [
        "apiKey = userdata.get('api_key')\n",
        "channelId = 'UCSQ2vulanpm-UYOzbDdu60A'\n",
        "\n",
        "SCOPES = [\n",
        "    'https://www.googleapis.com/auth/cloud-plataform'\n",
        "]\n",
        "credentials = service_account.Credentials.from_service_account_info(\n",
        "  {\n",
        "    \"type\": \"service_account\",\n",
        "    \"project_id\": \"savvy-container-401123\",\n",
        "    \"private_key_id\": userdata.get('private_key_id'),\n",
        "    \"private_key\": userdata.get('private_key'),\n",
        "    \"client_email\": userdata.get('client_email'),\n",
        "    \"client_id\": userdata.get('client_id'),\n",
        "    \"auth_uri\": \"https://accounts.google.com/o/oauth2/auth\",\n",
        "    \"token_uri\": \"https://oauth2.googleapis.com/token\",\n",
        "    \"auth_provider_x509_cert_url\": \"https://www.googleapis.com/oauth2/v1/certs\",\n",
        "    \"client_x509_cert_url\": \"https://www.googleapis.com/robot/v1/metadata/x509/apibq-140%40savvy-container-401123.iam.gserviceaccount.com\",\n",
        "    \"universe_domain\": \"googleapis.com\"\n",
        "  }\n",
        "\n",
        ")"
      ],
      "metadata": {
        "id": "E8eJBI08IoZF"
      },
      "execution_count": null,
      "outputs": []
    },
    {
      "cell_type": "markdown",
      "source": [],
      "metadata": {
        "id": "Cxl3FdBUJYf6"
      }
    },
    {
      "cell_type": "code",
      "source": [
        "today = datetime.today()\n",
        "todayLessSeven = today - timedelta(days=7)\n",
        "\n",
        "today = today.strftime('%Y-%m-%dT23:59:59Z')\n",
        "todayLessSeven = todayLessSeven.strftime('%Y-%m-%dT23:59:59Z')\n",
        "\n",
        "urlVideos = 'https://youtube.googleapis.com/youtube/v3/search?part=snippet&channelId={}&maxResults=55&publishedAfter={}&publishedBefore={}&type=video&key={}'.format(channelId, todayLessSeven, today, apiKey)\n",
        "responseVideos = requests.get(urlVideos).json()\n",
        "df = pd.DataFrame()\n",
        "\n",
        "for elementVideo in responseVideos['items']:\n",
        "    urlComments = 'https://youtube.googleapis.com/youtube/v3/commentThreads?part=snippet%2Creplies&videoId={}&key={}'.format(elementVideo['id']['videoId'], apiKey)\n",
        "    responseComments = requests.get(urlComments).json()\n",
        "\n",
        "    try:\n",
        "      nextPageToken = responseComments['nextPageToken']\n",
        "    except:\n",
        "      nextPageToken = ''\n",
        "\n",
        "    while (nextPageToken != ''):\n",
        "      try:\n",
        "        responseComments['items']\n",
        "      except:\n",
        "        try:\n",
        "          nextPageToken = responseComments['nextPageToken']\n",
        "        except:\n",
        "          nextPageToken = ''\n",
        "        continue\n",
        "\n",
        "      for elementComment in responseComments['items']:\n",
        "        comment = pd.json_normalize(elementComment['snippet']['topLevelComment']['snippet'])\n",
        "        comment = comment[\n",
        "          [\n",
        "            'videoId',\n",
        "            'textOriginal',\n",
        "            'authorDisplayName',\n",
        "            'likeCount',\n",
        "            'publishedAt'\n",
        "          ]\n",
        "        ]\n",
        "        df = df.append(comment)\n",
        "\n",
        "      try:\n",
        "        nextPageToken = responseComments['nextPageToken']\n",
        "      except:\n",
        "        nextPageToken = ''\n",
        "\n",
        "      urlComments = 'https://youtube.googleapis.com/youtube/v3/commentThreads?part=snippet%2Creplies&pageToken={}&videoId={}&key={}'.format(nextPageToken, elementVideo['id']['videoId'], apiKey)\n",
        "      responseComments = requests.get(urlComments).json()\n"
      ],
      "metadata": {
        "id": "yP2VUjgFH0qs"
      },
      "execution_count": null,
      "outputs": []
    },
    {
      "cell_type": "code",
      "source": [
        "pandas_gbq.context.credentials = credentials\n",
        "pandas_gbq.context.project = 'DataEngineerStudies'\n",
        "pandas_gbq.to_gbq(df, 'testes.ipp', project_id='savvy-container-401123', if_exists='replace')"
      ],
      "metadata": {
        "colab": {
          "base_uri": "https://localhost:8080/"
        },
        "id": "RPZugljpGKIz",
        "outputId": "e74b265a-6392-4a0d-d6fb-c876244600a5"
      },
      "execution_count": null,
      "outputs": [
        {
          "output_type": "stream",
          "name": "stderr",
          "text": [
            "100%|██████████| 1/1 [00:00<00:00, 726.66it/s]\n"
          ]
        }
      ]
    }
  ]
}